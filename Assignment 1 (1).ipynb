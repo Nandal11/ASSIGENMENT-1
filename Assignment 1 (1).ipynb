{
 "cells": [
  {
   "cell_type": "raw",
   "id": "3aa43999-34bc-4bc8-bd1f-87f610080316",
   "metadata": {},
   "source": [
    "question 1- explain the keu features of python that make it a popular choice for programiing.\n",
    "answer - Python's popularity in programming can be attributed to several key features that make it appealing to a wide range of users, from beginners to experienced developers. Here are some of the most significant ones:\n",
    "\n",
    "Readability and Simplicity: Python emphasizes code readability and a clear, straightforward syntax. This makes it easier for newcomers to learn and understand, and for experienced programmers to maintain and collaborate on code.\n",
    "\n",
    "Versatile and High-Level: Python is a high-level language, meaning it abstracts much of the complexity of computer operations. It supports multiple programming paradigms, including procedural, object-oriented, and functional programming.\n",
    "\n",
    "Large Standard Library: Python comes with a comprehensive standard library that includes modules and packages for many common tasks, such as file I/O, system calls, and even Internet protocols. This allows developers to write less code and leverage existing tools.\n",
    "\n",
    "Extensive Ecosystem: Beyond the standard library, Python has a rich ecosystem of third-party libraries and frameworks that extend its capabilities. Libraries like NumPy and pandas for data analysis, Django and Flask for web development, and TensorFlow and PyTorch for machine learning are just a few examples.\n",
    "\n",
    "Interpreted Language: Python is an interpreted language, which means code is executed line-by-line. This feature facilitates quick testing and debugging, as you can run code snippets directly without needing a separate compilation step.\n",
    "\n",
    "Dynamic Typing: Python uses dynamic typing, allowing variables to change types during runtime. This flexibility can make coding more intuitive and faster, though it can also introduce some challenges with type-related bugs.\n",
    "\n",
    "Community and Support: Python has a large and active community that contributes to a wealth of tutorials, documentation, forums, and conferences. This vibrant ecosystem helps users find support, learn new techniques, and stay updated with the latest developments.\n",
    "\n",
    "Cross-Platform Compatibility: Python is available on various platforms, including Windows, macOS, and Linux. This cross-platform nature ensures that Python programs can run on different operating systems with minimal modification.\n",
    "\n",
    "Integration Capabilities: Python can easily integrate with other languages and technologies, such as C/C++ for performance-critical components, and it can interface with web services, databases, and more.\n",
    "\n",
    "Open Source: Python is open-source and free to use, which fosters a collaborative development environment and allows anyone to contribute to its development or use it for their projects without financial constraints."
   ]
  },
  {
   "cell_type": "raw",
   "id": "4823579a-44a4-4850-a6cc-08899218a9c3",
   "metadata": {},
   "source": [
    "question 2 - Describe the role of predefined keywords in Python and provide examples of how they are used in a program .\n",
    "answer - Predefined keywords in Python, also known as reserved words, play a crucial role in the language. These keywords are part of the language syntax and cannot be used for anything other than their intended purpose.These keywords are fundamental to writing correct and effective Python code. They help define the rules of syntax and the structure of the language, ensuring that code is consistent and understandable across different programs and projects.Here is a list of some of the predefined keywords in Python\n",
    "False , none, true , and , if, import,in etc\n"
   ]
  },
  {
   "cell_type": "code",
   "execution_count": 1,
   "id": "13c03e63-4cba-4dcf-99cc-a742d0ea4eeb",
   "metadata": {},
   "outputs": [
    {
     "name": "stdout",
     "output_type": "stream",
     "text": [
      " x is a positive\n"
     ]
    }
   ],
   "source": [
    "x = 10\n",
    "if x > 0 :\n",
    "    print( \" x is a positive\")\n",
    "elif x== 0:\n",
    "    print(\"x is zero\")\n",
    "else:\n",
    "    print(\"x is negative\")\n"
   ]
  },
  {
   "cell_type": "raw",
   "id": "36ae9da8-d81a-4924-b138-8651f9e0eccb",
   "metadata": {},
   "source": [
    "question 3 - compare and contrast mutable and immutable objects in python with example.\n",
    "answer 3 - In Python, the concepts of mutable and immutable objects are central to understanding how data is managed and manipulated.\n",
    "\n",
    "Mutable Objects : Mutable objects are objects whose state or value can be changed after they are created. list dictionaries and sets are comman mutable objects in pythan. \n",
    "\n",
    "Immutable Objects :Immutable objects are objects whose state or value cannot be changed once they are created. Integers, floats, strings, and tuples are common immutable objects in Python.\n",
    "\n",
    "Comparison :\n",
    "1 Mutability:\n",
    "\n",
    "*Mutable objects can be changed in place.\n",
    "*Immutable objects cannot be changed once created.\n",
    "\n",
    "2 References:\n",
    "*Changes to mutable objects are visible to all references.\n",
    "*Immutable objects create new instances on modification, so original references remain unchanged.\n",
    " \n",
    "3 Performance:\n",
    "\n",
    "*Mutable objects can be more efficient for certain types of operations because they do not require creating new instances.\n",
    "*Immutable objects can lead to more memory usage if many changes are made, as each modification results in the creation of a new object.\n",
    "\n",
    "4 Use Cases:\n",
    "\n",
    "*Mutable objects are useful when you need to modify the object’s content frequently, such as accumulating results in a list.\n",
    "*Immutable objects are useful for ensuring data integrity and consistency, especially in concurrent programming or when using data as keys in dictionaries.\n"
   ]
  },
  {
   "cell_type": "code",
   "execution_count": 2,
   "id": "e5197416-a851-44c8-beac-b6db463d04e3",
   "metadata": {},
   "outputs": [
    {
     "name": "stdout",
     "output_type": "stream",
     "text": [
      "Original list: [1, 2, 3]\n",
      "Modified list: [1, 2, 3, 4]\n",
      "List after modifying through another reference: [100, 2, 3, 4]\n"
     ]
    }
   ],
   "source": [
    "# Example of a mutable object: list\n",
    "my_list = [1, 2, 3]\n",
    "print(\"Original list:\", my_list)\n",
    "\n",
    "# Modifying the list\n",
    "my_list.append(4)\n",
    "print(\"Modified list:\", my_list)\n",
    "\n",
    "# The change is reflected\n",
    "another_reference = my_list\n",
    "another_reference[0] = 100\n",
    "print(\"List after modifying through another reference:\", my_list)\n"
   ]
  },
  {
   "cell_type": "code",
   "execution_count": 3,
   "id": "b701fa89-4f0c-4c40-af4c-250297619f79",
   "metadata": {},
   "outputs": [
    {
     "name": "stdout",
     "output_type": "stream",
     "text": [
      "Original string: hello\n",
      "New string: jello\n",
      "Original string after modification: hello\n"
     ]
    }
   ],
   "source": [
    "# Example of an immutable object: string\n",
    "my_string = \"hello\"\n",
    "print(\"Original string:\", my_string)\n",
    "\n",
    "# Attempting to modify the string\n",
    "new_string = my_string.replace(\"h\", \"j\")\n",
    "print(\"New string:\", new_string)\n",
    "print(\"Original string after modification:\", my_string)\n"
   ]
  },
  {
   "cell_type": "raw",
   "id": "ec468bdd-fab2-47b0-b719-6ea35427142d",
   "metadata": {},
   "source": [
    "question 4 :  Discuss the differance types of operators in python and provide example of how they are used .\n",
    "Answer 4 : In Python, operators are symbols that perform operations on variables and values. Python supports several types of operators, each serving a specific function. Here’s an overview of the different types of operators in Python . \n",
    "1. Arithmetic Operators \n",
    "These operators are used to perform mathematical operations.\n",
    "\n",
    "+ (Addition): Adds two operands.\n",
    "- (Subtraction): Subtracts the second operand from the first.\n",
    "* (Multiplication): Multiplies two operands.\n",
    "/ (Division): Divides the first operand by the second.\n",
    "// (Floor Division): Divides and returns the largest integer less than or equal to the result.\n",
    "% (Modulus): Returns the remainder of the division.\n",
    "** (Exponentiation): Raises the first operand to the power of the second.\n",
    " \n",
    "2. Comparison Operators\n",
    "These operators are used to compare two values.\n",
    "\n",
    "== (Equal to): Returns True if the values are equal.\n",
    "!= (Not equal to): Returns True if the values are not equal.\n",
    "> (Greater than): Returns True if the first value is greater than the second.\n",
    "< (Less than): Returns True if the first value is less than the second.\n",
    ">= (Greater than or equal to): Returns True if the first value is greater than or equal to the second.\n",
    "<= (Less than or equal to): Returns True if the first value is less than or equal to the second.\n",
    "\n",
    "3. Logical Operators\n",
    "These operators are used to combine conditional statements.\n",
    "\n",
    "and: Returns True if both operands are true.\n",
    "or: Returns True if at least one operand is true.\n",
    "not: Returns True if the operand is false.\n",
    "\n",
    "4. Assignment Operators\n",
    "These operators are used to assign values to variables.\n",
    "\n",
    "=: Assigns a value to a variable.\n",
    "+=: Adds and assigns.\n",
    "-=: Subtracts and assigns.\n",
    "*=: Multiplies and assigns.\n",
    "/=: Divides and assigns.\n",
    "//=: Floor divides and assigns.\n",
    "%=: Modulus and assigns.\n",
    "**=: Exponentiates and assigns.\n",
    "\n",
    "5. Bitwise Operators\n",
    "These operators are used to perform bit-level operations.\n",
    "\n",
    "& (AND): Performs bitwise AND.\n",
    "| (OR): Performs bitwise OR.\n",
    "^ (XOR): Performs bitwise XOR.\n",
    "~ (NOT): Performs bitwise NOT (inversion).\n",
    "<< (Left shift): Shifts bits to the left.\n",
    ">> (Right shift): Shifts bits to the right.\n",
    "\n",
    "6. Identity Operators\n",
    "These operators are used to compare the memory locations of two objects.\n",
    "\n",
    "is: Returns True if two variables point to the same object.\n",
    "is not: Returns True if two variables point to different objects.\n",
    "\n",
    "7. Membership Operators\n",
    "These operators are used to test if a value is present in a sequence.\n",
    "\n",
    "in: Returns True if the value is found in the sequence.\n",
    "not in: Returns True if the value is not found in the sequence.\n",
    "\n"
   ]
  },
  {
   "cell_type": "code",
   "execution_count": 13,
   "id": "313101a0-2334-46dc-aa36-da3eae06c1a2",
   "metadata": {},
   "outputs": [
    {
     "name": "stdout",
     "output_type": "stream",
     "text": [
      "13\n",
      "7\n",
      "30\n",
      "3.3333333333333335\n",
      "3\n",
      "1\n",
      "1000\n"
     ]
    }
   ],
   "source": [
    "# example of arithmetic operator\n",
    "a = 10\n",
    "b = 3\n",
    "\n",
    "print(a + b)   \n",
    "print(a - b)   \n",
    "print(a * b)   \n",
    "print(a / b)   \n",
    "print(a // b)  \n",
    "print(a % b)   \n",
    "print(a ** b)  \n"
   ]
  },
  {
   "cell_type": "code",
   "execution_count": 12,
   "id": "4bd68166-4ce8-4fc7-a665-b97292dc4072",
   "metadata": {},
   "outputs": [
    {
     "name": "stdout",
     "output_type": "stream",
     "text": [
      "False\n",
      "True\n",
      "True\n",
      "False\n",
      "True\n",
      "False\n"
     ]
    }
   ],
   "source": [
    "# example of cpmarison operatrs \n",
    "a = 10\n",
    "b = 5\n",
    "\n",
    "print(a == b)  \n",
    "print(a != b)  \n",
    "print(a > b)   \n",
    "print(a < b)   \n",
    "print(a >= b)  \n",
    "print(a <= b)  \n",
    "\n"
   ]
  },
  {
   "cell_type": "code",
   "execution_count": 14,
   "id": "31c694a6-dfbd-442c-964b-297f2e2160b2",
   "metadata": {},
   "outputs": [
    {
     "name": "stdout",
     "output_type": "stream",
     "text": [
      "False\n",
      "True\n",
      "False\n"
     ]
    }
   ],
   "source": [
    "# eample of logical operators \n",
    "a = True\n",
    "b = False\n",
    "\n",
    "print(a and b)  \n",
    "print(a or b)   \n",
    "print(not a)    \n"
   ]
  },
  {
   "cell_type": "code",
   "execution_count": 15,
   "id": "20375b10-2ac8-40c1-acea-068f985fe8d3",
   "metadata": {},
   "outputs": [
    {
     "name": "stdout",
     "output_type": "stream",
     "text": [
      "15\n",
      "12\n",
      "24\n",
      "6.0\n",
      "3.0\n",
      "1.0\n",
      "1.0\n"
     ]
    }
   ],
   "source": [
    "# example of assignment operators \n",
    "a = 10\n",
    "a += 5 \n",
    "print(a) \n",
    "\n",
    "a -= 3  \n",
    "print(a)  \n",
    "\n",
    "a *= 2  \n",
    "print(a)  \n",
    "\n",
    "a /= 4 \n",
    "print(a) \n",
    "\n",
    "a //= 2 \n",
    "print(a)  \n",
    "\n",
    "a %= 2  \n",
    "print(a)  \n",
    "\n",
    "a **= 3  \n",
    "print(a)  \n"
   ]
  },
  {
   "cell_type": "code",
   "execution_count": 16,
   "id": "92f9ef5b-4274-4f5a-8490-4720f13bb89e",
   "metadata": {},
   "outputs": [
    {
     "name": "stdout",
     "output_type": "stream",
     "text": [
      "0\n",
      "14\n",
      "14\n",
      "-11\n",
      "20\n",
      "5\n"
     ]
    }
   ],
   "source": [
    "# exapmle of bitwise operators \n",
    "a = 10  \n",
    "b = 4  \n",
    "\n",
    "print(a & b)  \n",
    "print(a | b) \n",
    "print(a ^ b)  \n",
    "print(~a)     \n",
    "print(a << 1) \n",
    "print(a >> 1) \n",
    "\n"
   ]
  },
  {
   "cell_type": "code",
   "execution_count": 17,
   "id": "24af3605-e6f7-4c8d-8b75-61d4588e8f03",
   "metadata": {},
   "outputs": [
    {
     "name": "stdout",
     "output_type": "stream",
     "text": [
      "False\n",
      "True\n",
      "True\n",
      "False\n"
     ]
    }
   ],
   "source": [
    "# example of identify operators \n",
    "a = [1, 2, 3]\n",
    "b = [1, 2, 3]\n",
    "c = a\n",
    "\n",
    "print(a is b)      \n",
    "print(a is c)     \n",
    "print(a is not b)  \n",
    "print(a is not c) \n"
   ]
  },
  {
   "cell_type": "code",
   "execution_count": 18,
   "id": "aee520cf-ac98-47d1-a8f1-8ed0e5be962d",
   "metadata": {},
   "outputs": [
    {
     "name": "stdout",
     "output_type": "stream",
     "text": [
      "True\n",
      "False\n",
      "True\n",
      "False\n"
     ]
    }
   ],
   "source": [
    "# example of membership operators \n",
    "a = [1, 2, 3, 4, 5]\n",
    "\n",
    "print(3 in a)      \n",
    "print(6 in a)       \n",
    "print(6 not in a)   \n",
    "print(3 not in a)   \n"
   ]
  },
  {
   "cell_type": "raw",
   "id": "44e07573-d01a-4720-8c22-9b721fea3eac",
   "metadata": {},
   "source": [
    "question 5 : explain the concept of type casting in python with example .\n",
    "answer 5 : Type casting in Python refers to the process of converting a variable from one data type to another. This is often necessary when performing operations that require specific data types or when you want to ensure that your data is in the desired format.Type casting is essential for converting between different data types to ensure compatibility in operations and for accurate data manipulation. Python provides built-in functions for converting between integers, floats, strings, lists, tuples, and sets.\n",
    "\n",
    "1. Converting to Integer\n",
    "To convert a value to an integer, you use the int() function. This is useful when you have a string or a float that you want to convert into an integer.\n",
    "\n",
    "2. Converting to Float\n",
    "To convert a value to a float, you use the float() function. This is useful when you need to perform floating-point arithmetic.\n",
    "\n",
    "3. Converting to String\n",
    "To convert a value to a string, you use the str() function. This is often done to concatenate non-string types with strings or to format output.\n",
    "\n",
    "4. Converting to List\n",
    "To convert other iterable types like tuples or sets to a list, you use the list() function.\n"
   ]
  },
  {
   "cell_type": "code",
   "execution_count": 19,
   "id": "a85950e7-e7c6-47b0-bf57-a21b766816d0",
   "metadata": {},
   "outputs": [
    {
     "name": "stdout",
     "output_type": "stream",
     "text": [
      "12\n",
      "123\n"
     ]
    }
   ],
   "source": [
    "# example of converting to integer\n",
    "# Convert a float to an integer\n",
    "float_value = 12.56\n",
    "int_value = int(float_value)\n",
    "print(int_value) \n",
    "\n",
    "# Convert a string to an integer\n",
    "str_value = \"123\"\n",
    "int_value = int(str_value)\n",
    "print(int_value)  \n"
   ]
  },
  {
   "cell_type": "code",
   "execution_count": 11,
   "id": "7a7c836e-238a-406e-8c42-43ac8746725d",
   "metadata": {},
   "outputs": [
    {
     "name": "stdout",
     "output_type": "stream",
     "text": [
      "7.0\n",
      "3.14\n"
     ]
    }
   ],
   "source": [
    "# example of converting to float\n",
    "# Convert an integer to a float\n",
    "int_value = 7\n",
    "float_value = float(int_value)\n",
    "print(float_value)  \n",
    "\n",
    "# Convert a string to a float\n",
    "str_value = \"3.14\"\n",
    "float_value = float(str_value)\n",
    "print(float_value)  \n"
   ]
  },
  {
   "cell_type": "code",
   "execution_count": 23,
   "id": "eadc1af7-3016-4b02-a7e9-c86f81a2051a",
   "metadata": {},
   "outputs": [
    {
     "name": "stdout",
     "output_type": "stream",
     "text": [
      "42\n",
      "3.14\n"
     ]
    }
   ],
   "source": [
    "# example converting to a string \n",
    "# Convert an integer to a string\n",
    "int_value = 42\n",
    "str_value = str(int_value)\n",
    "print(str_value)  \n",
    "\n",
    "# Convert a float to a string\n",
    "float_value = 3.14\n",
    "str_value = str(float_value)\n",
    "print(str_value)  \n",
    "\n"
   ]
  },
  {
   "cell_type": "code",
   "execution_count": 24,
   "id": "132ace5e-ffa8-4d14-a9bd-12d46c1f802c",
   "metadata": {},
   "outputs": [
    {
     "name": "stdout",
     "output_type": "stream",
     "text": [
      "[1, 2, 3]\n",
      "[4, 5, 6]\n"
     ]
    }
   ],
   "source": [
    "# example of converitng to list \n",
    "# Convert a tuple to a list\n",
    "tuple_value = (1, 2, 3)\n",
    "list_value = list(tuple_value)\n",
    "print(list_value)  \n",
    "\n",
    "# Convert a set to a list\n",
    "set_value = {4, 5, 6}\n",
    "list_value = list(set_value)\n",
    "print(list_value) \n"
   ]
  },
  {
   "cell_type": "raw",
   "id": "c4a0c667-bf27-4b3b-a6c8-d2bfafddbd4e",
   "metadata": {},
   "source": [
    "question 6 : how do conditional statement work in python ? illustrate with example.\n",
    "answer 6 : Conditional statements in Python are used to perform different actions based on whether a condition is true or false. The most common conditional statements are if, elif, and else. They allow you to control the flow of your program by executing different blocks of code based on conditions.\n",
    "Here's a brief overview of how each of these works:\n",
    "\n",
    "if Statement: This evaluates an expression and, if the expression is True, it executes the associated block of code.\n",
    "\n",
    "elif Statement: This stands for \"else if\" and provides additional conditions to check if the if condition was False. You can have multiple elif statements.\n",
    "\n",
    "else Statement: This executes if none of the preceding conditions are True. It is optional"
   ]
  },
  {
   "cell_type": "code",
   "execution_count": 25,
   "id": "bf117ee9-3c37-4119-bb68-78eb145871f5",
   "metadata": {},
   "outputs": [
    {
     "name": "stdout",
     "output_type": "stream",
     "text": [
      "The number is positive.\n"
     ]
    }
   ],
   "source": [
    "# Define a number\n",
    "number = 5\n",
    "\n",
    "# Check if the number is positive\n",
    "if number > 0:\n",
    "    print(\"The number is positive.\")\n",
    "# Check if the number is negative\n",
    "elif number < 0:\n",
    "    print(\"The number is negative.\")\n",
    "# If the number is neither positive nor negative, it must be zero\n",
    "else:\n",
    "    print(\"The number is zero.\")\n"
   ]
  },
  {
   "cell_type": "raw",
   "id": "c0ce1b51-2892-409b-9a1d-ff8af00c48e5",
   "metadata": {},
   "source": [
    "question 7 : describe the different types of loops in python and their use cases with example . \n",
    "answer 7 : with example \n",
    "ChatGPT said:\n",
    "ChatGPT\n",
    "In Python, loops are used to execute a block of code repeatedly under certain conditions. There are primarily two types of loops: for loops and while loops. Each type has its use cases and specific ways of functioning.\n",
    "\n",
    "1. for Loop\n",
    "The for loop in Python is used to iterate over a sequence (such as a list, tuple, string, or range). It's particularly useful when you know in advance how many times you want to execute a block of code.\n",
    "\n",
    "2. while Loop\n",
    "The while loop repeatedly executes a block of code as long as a given condition is True. It's useful when you don’t know beforehand how many times you need to execute the code.\n",
    "\n",
    "3. break and continue Statements\n",
    "Description\n",
    "Both break and continue statements can be used within loops to control their execution.\n",
    "\n",
    "break: Exits the loop immediately, regardless of the loop’s condition.\n",
    "continue: Skips the rest of the current loop iteration and proceeds to the next iteration.\n"
   ]
  },
  {
   "cell_type": "code",
   "execution_count": 26,
   "id": "26a92c13-631f-4f6f-bbe8-3b914e0a4a7e",
   "metadata": {},
   "outputs": [
    {
     "name": "stdout",
     "output_type": "stream",
     "text": [
      "1\n",
      "2\n",
      "3\n",
      "4\n",
      "5\n"
     ]
    }
   ],
   "source": [
    "# example for loop\n",
    "numbers = [1, 2, 3, 4, 5]\n",
    "for num in numbers:\n",
    "    print(num)\n"
   ]
  },
  {
   "cell_type": "code",
   "execution_count": 27,
   "id": "fe36423e-3ecc-40fa-9631-e335fa5bf702",
   "metadata": {},
   "outputs": [
    {
     "name": "stdout",
     "output_type": "stream",
     "text": [
      "0\n",
      "1\n",
      "2\n",
      "3\n",
      "4\n"
     ]
    }
   ],
   "source": [
    "# example for while loop\n",
    "i = 0\n",
    "while i < 5:\n",
    "    print(i)\n",
    "    i += 1\n"
   ]
  },
  {
   "cell_type": "code",
   "execution_count": 29,
   "id": "0efda8f4-4698-48ce-85f9-f23377b95973",
   "metadata": {},
   "outputs": [
    {
     "name": "stdout",
     "output_type": "stream",
     "text": [
      "0\n",
      "1\n",
      "2\n",
      "3\n",
      "4\n"
     ]
    }
   ],
   "source": [
    "# example for break \n",
    "for i in range(10):\n",
    "    if i == 5:\n",
    "        break\n",
    "    print(i)\n"
   ]
  },
  {
   "cell_type": "code",
   "execution_count": 30,
   "id": "f8807c84-d9e7-4caf-8acd-16a4ba693f8f",
   "metadata": {},
   "outputs": [
    {
     "name": "stdout",
     "output_type": "stream",
     "text": [
      "1\n",
      "3\n",
      "5\n",
      "7\n",
      "9\n"
     ]
    }
   ],
   "source": [
    "# example for continue \n",
    "for i in range(10):\n",
    "    if i % 2 == 0:\n",
    "        continue\n",
    "    print(i)\n"
   ]
  },
  {
   "cell_type": "code",
   "execution_count": null,
   "id": "5ec91409-91da-4b5a-b71a-a3ad16dea804",
   "metadata": {},
   "outputs": [],
   "source": []
  }
 ],
 "metadata": {
  "kernelspec": {
   "display_name": "Python 3 (ipykernel)",
   "language": "python",
   "name": "python3"
  },
  "language_info": {
   "codemirror_mode": {
    "name": "ipython",
    "version": 3
   },
   "file_extension": ".py",
   "mimetype": "text/x-python",
   "name": "python",
   "nbconvert_exporter": "python",
   "pygments_lexer": "ipython3",
   "version": "3.10.8"
  }
 },
 "nbformat": 4,
 "nbformat_minor": 5
}
